{
  "nbformat": 4,
  "nbformat_minor": 0,
  "metadata": {
    "colab": {
      "name": "Untitled2.ipynb",
      "provenance": [],
      "authorship_tag": "ABX9TyPu9m+xQi/vIjJcgIjZ5nmN",
      "include_colab_link": true
    },
    "kernelspec": {
      "name": "python3",
      "display_name": "Python 3"
    }
  },
  "cells": [
    {
      "cell_type": "markdown",
      "metadata": {
        "id": "view-in-github",
        "colab_type": "text"
      },
      "source": [
        "<a href=\"https://colab.research.google.com/github/abaypamungkas/PemrogramanPython/blob/main/Untitled2.ipynb\" target=\"_parent\"><img src=\"https://colab.research.google.com/assets/colab-badge.svg\" alt=\"Open In Colab\"/></a>"
      ]
    },
    {
      "cell_type": "markdown",
      "metadata": {
        "id": "o3fSTpNMO1IP"
      },
      "source": [
        "**BAYU AJI PAMUNGKAS**\r\n",
        "\r\n",
        "1101174197"
      ]
    },
    {
      "cell_type": "code",
      "metadata": {
        "id": "Kv2bYToyNqEM"
      },
      "source": [
        "import numpy as np\r\n",
        "import matplotlib.pyplot as plt"
      ],
      "execution_count": 1,
      "outputs": []
    },
    {
      "cell_type": "code",
      "metadata": {
        "id": "kZVMYXp3NtYc"
      },
      "source": [
        "def cos(frek,tipe,ht,hr,d):\r\n",
        "  #frek = frekuensi (MHz)\r\n",
        "  #tipe = urban, suburban, open\r\n",
        "  #ht = tinggi tower (meter)\r\n",
        "  #hr = tinggi user (meter)\r\n",
        "  #d = jarak (meter)\r\n",
        "  if frek in range(150,1501):\r\n",
        "    Ca=69.55\r\n",
        "    Cb=26.16\r\n",
        "  elif frek in range(1501,2001):\r\n",
        "    Ca=46.3\r\n",
        "    Cb=33.9   \r\n",
        "  if tipe=='urban' :\r\n",
        "    Cm=0\r\n",
        "  elif tipe=='suburban' :\r\n",
        "    Cm= -2*((np.log10((frek/28)**2))-5.4)\r\n",
        "  elif tipe=='open' :\r\n",
        "    Cm= -4.78*(np.log10(frek))+18.33*(np.log10(frek))-40.94\r\n",
        "  else :\r\n",
        "    Cm='tipe salah'\r\n",
        "    \r\n",
        "  ahr = (1.1*np.log10(frek)-0.7)*hr-(1.56*np.log10(frek)-1.8)\r\n",
        "  Lp = Ca+(Cb*np.log10(frek))-(13.83*np.log(ht))-ahr+((44.9-6.55*np.log10(ht))*np.log10(d))-Cm\r\n",
        "    \r\n",
        "  return Lp"
      ],
      "execution_count": 2,
      "outputs": []
    },
    {
      "cell_type": "markdown",
      "metadata": {
        "id": "yJlBmm87Nx53"
      },
      "source": [
        ""
      ]
    },
    {
      "cell_type": "markdown",
      "metadata": {
        "id": "Fe0CnEB6Nze_"
      },
      "source": [
        "**GAMBAR 1**\r\n",
        "\r\n",
        "**URBAN**"
      ]
    },
    {
      "cell_type": "code",
      "metadata": {
        "id": "gCJ6UX2cN9WU"
      },
      "source": [
        "frekuensi=1800\r\n",
        "loc='urban'\r\n",
        "ht=80\r\n",
        "hr=1.5\r\n",
        "dmin=200\r\n",
        "dmax=700\r\n",
        "N=200\r\n",
        "d=np.random.randint(dmin,dmax,N)"
      ],
      "execution_count": 3,
      "outputs": []
    },
    {
      "cell_type": "code",
      "metadata": {
        "id": "vAfGcGVgOJCv"
      },
      "source": [
        "LpUrban= cos(frekuensi,loc,ht,hr,d)"
      ],
      "execution_count": 4,
      "outputs": []
    },
    {
      "cell_type": "code",
      "metadata": {
        "id": "FGn_39rPONOg"
      },
      "source": [
        "d_sort_urban = d[np.argsort(d)]\r\n",
        "Urban_sort = LpUrban[np.argsort(d)]"
      ],
      "execution_count": 5,
      "outputs": []
    },
    {
      "cell_type": "markdown",
      "metadata": {
        "id": "kN3z-HyCOR9X"
      },
      "source": [
        "**SUBURBAN**"
      ]
    },
    {
      "cell_type": "code",
      "metadata": {
        "id": "A6KNKbqCOVo2"
      },
      "source": [
        "loc = 'suburban'\r\n",
        "LpSubUrban = cos(frekuensi,loc,ht,hr,d)\r\n",
        "d_Sort_SubUrban = d[np.argsort(d)]\r\n",
        "Sub_Urban_Sort = LpSubUrban[np.argsort(d)]"
      ],
      "execution_count": 6,
      "outputs": []
    },
    {
      "cell_type": "markdown",
      "metadata": {
        "id": "DqEZFmXHObUJ"
      },
      "source": [
        "**OPEN**"
      ]
    },
    {
      "cell_type": "code",
      "metadata": {
        "id": "BTaqI4IJOf4x"
      },
      "source": [
        "loc = 'open'\r\n",
        "LpOpen = cos(frekuensi,loc,ht,hr,d)\r\n",
        "d_sort_open = d[np.argsort(d)]\r\n",
        "Open_sort = LpOpen[np.argsort(d)]"
      ],
      "execution_count": 7,
      "outputs": []
    },
    {
      "cell_type": "code",
      "metadata": {
        "colab": {
          "base_uri": "https://localhost:8080/",
          "height": 295
        },
        "id": "f2bR0LngOlQ5",
        "outputId": "c098aeb0-540e-42de-a63a-fcd0aa5ddb05"
      },
      "source": [
        "plt.figure()\r\n",
        "plt.plot(d_sort_urban,Urban_sort,'y', label='Urban')\r\n",
        "plt.plot(d_Sort_SubUrban,Sub_Urban_Sort,'b', label='SubUrban')\r\n",
        "plt.plot(d_sort_open,Open_sort,'c', label='Open')\r\n",
        "plt.legend()\r\n",
        "plt.title(\"Frekuensi 1800 MHz\")\r\n",
        "plt.xlabel(\"Jarak (m)\")\r\n",
        "plt.ylabel(\"Path Loss (dB)\")\r\n",
        "plt.show()"
      ],
      "execution_count": 8,
      "outputs": [
        {
          "output_type": "display_data",
          "data": {
            "image/png": "[encoded data removed]",
            "text/plain": [
              "<Figure size 432x288 with 1 Axes>"
            ]
          },
          "metadata": {
            "tags": [],
            "needs_background": "light"
          }
        }
      ]
    },
    {
      "cell_type": "markdown",
      "metadata": {
        "id": "eyESsNiJOoUx"
      },
      "source": [
        "**GAMBAR 2**"
      ]
    },
    {
      "cell_type": "code",
      "metadata": {
        "id": "5xgp5RjEOsJ4"
      },
      "source": [
        "#700\r\n",
        "frekuensi= 700\r\n",
        "loc='urban'\r\n",
        "ht=80 \r\n",
        "hr=1.5 \r\n",
        "dmin=200 \r\n",
        "dmax=700 \r\n",
        "N=200\r\n",
        "d=np.random.randint(dmin,dmax,N)\r\n",
        "Lp7 = cos(frekuensi,loc,ht,hr,d)\r\n",
        "sort7 = d[np.argsort(d)]\r\n",
        "urban1= Lp7[np.argsort(d)]\r\n",
        "\r\n",
        "#900\r\n",
        "frekuensi=900\r\n",
        "Lp9= cos(frekuensi,loc,ht,hr,d)\r\n",
        "sort9 = d[np.argsort(d)]\r\n",
        "urban2 = Lp9[np.argsort(d)]\r\n",
        "\r\n",
        "#1800\r\n",
        "frekuensi=1800\r\n",
        "Lp18 = cos(frekuensi,loc,ht,hr,d)\r\n",
        "sort18= d[np.argsort(d)]\r\n",
        "urban3 = Lp18[np.argsort(d)]"
      ],
      "execution_count": 9,
      "outputs": []
    },
    {
      "cell_type": "code",
      "metadata": {
        "colab": {
          "base_uri": "https://localhost:8080/",
          "height": 295
        },
        "id": "IpfE8K_MOwFD",
        "outputId": "84dab316-59d8-4db5-ff28-576863b0186a"
      },
      "source": [
        "plt.figure()\r\n",
        "plt.plot(sort7,urban1,'m', label=\"700 MHz\")\r\n",
        "plt.plot(sort9,urban2,'b', label = \"900 MHz\")\r\n",
        "plt.plot(sort18,urban3,'r', label=\"1800 MHz\")\r\n",
        "plt.legend()\r\n",
        "plt.title(\"Urban\")\r\n",
        "plt.xlabel(\"Jarak (m)\")\r\n",
        "plt.ylabel(\"Path Loss (dB)\")\r\n",
        "plt.show()"
      ],
      "execution_count": 10,
      "outputs": [
        {
          "output_type": "display_data",
          "data": {
            "image/png": "[encoded data removed]",
            "text/plain": [
              "<Figure size 432x288 with 1 Axes>"
            ]
          },
          "metadata": {
            "tags": [],
            "needs_background": "light"
          }
        }
      ]
    }
  ]
}